{
 "cells": [
  {
   "cell_type": "code",
   "execution_count": 5,
   "metadata": {},
   "outputs": [],
   "source": [
    "import requests\n",
    "import json\n",
    "from json import dumps,loads\n",
    "import time\n",
    "from kafka import KafkaProducer"
   ]
  },
  {
   "cell_type": "code",
   "execution_count": 6,
   "metadata": {},
   "outputs": [],
   "source": [
    "producer = KafkaProducer(bootstrap_servers='localhost:29092',\n",
    "                            value_serializer=lambda v: dumps(v).encode('utf-8'))"
   ]
  },
  {
   "cell_type": "code",
   "execution_count": 7,
   "metadata": {},
   "outputs": [],
   "source": [
    "url = 'https://pokeapi.co/api/v2/pokemon/{}/'"
   ]
  },
  {
   "cell_type": "code",
   "execution_count": 8,
   "metadata": {},
   "outputs": [
    {
     "name": "stdout",
     "output_type": "stream",
     "text": [
      "(61) Time elapsed: 1.3797552585601807 s\n",
      "(62) Time elapsed: 0.8403520584106445 s\n",
      "(63) Time elapsed: 0.8381223678588867 s\n",
      "(64) Time elapsed: 1.1526517868041992 s\n",
      "(65) Time elapsed: 0.8430352210998535 s\n",
      "(66) Time elapsed: 0.8395180702209473 s\n",
      "(67) Time elapsed: 1.1124346256256104 s\n",
      "(68) Time elapsed: 0.8571689128875732 s\n",
      "(69) Time elapsed: 1.1621110439300537 s\n",
      "(70) Time elapsed: 0.8411791324615479 s\n"
     ]
    }
   ],
   "source": [
    "for i in range(60, 70):\n",
    "    start = time.time()\n",
    "    r = requests.get(url.format(i+1))\n",
    "    message = r.json()\n",
    "    producer.send(topic='pokemon', value=message)\n",
    "    end = time.time()\n",
    "    print('({}) Time elapsed: {} s'.format(i+1, end-start))\n",
    "    time.sleep(1)"
   ]
  },
  {
   "cell_type": "code",
   "execution_count": null,
   "metadata": {},
   "outputs": [],
   "source": []
  }
 ],
 "metadata": {
  "kernelspec": {
   "display_name": "Python 3",
   "language": "python",
   "name": "python3"
  },
  "language_info": {
   "codemirror_mode": {
    "name": "ipython",
    "version": 3
   },
   "file_extension": ".py",
   "mimetype": "text/x-python",
   "name": "python",
   "nbconvert_exporter": "python",
   "pygments_lexer": "ipython3",
   "version": "3.6.8"
  }
 },
 "nbformat": 4,
 "nbformat_minor": 2
}
