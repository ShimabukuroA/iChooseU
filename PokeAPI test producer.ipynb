{
 "cells": [
  {
   "cell_type": "code",
   "execution_count": 113,
   "metadata": {},
   "outputs": [],
   "source": [
    "import requests\n",
    "import json\n",
    "from json import dumps,loads\n",
    "import time\n",
    "from kafka import KafkaProducer"
   ]
  },
  {
   "cell_type": "code",
   "execution_count": 117,
   "metadata": {},
   "outputs": [],
   "source": [
    "producer = KafkaProducer(bootstrap_servers='localhost:29092',\n",
    "                            value_serializer=lambda v: dumps(v).encode('utf-8'))"
   ]
  },
  {
   "cell_type": "code",
   "execution_count": 118,
   "metadata": {},
   "outputs": [],
   "source": [
    "url = 'https://pokeapi.co/api/v2/pokemon/{}/'"
   ]
  },
  {
   "cell_type": "code",
   "execution_count": 151,
   "metadata": {},
   "outputs": [
    {
     "name": "stdout",
     "output_type": "stream",
     "text": [
      "(51) Time elapsed: 0.1156768798828125 s\n",
      "(52) Time elapsed: 0.13103508949279785 s\n",
      "(53) Time elapsed: 0.33101534843444824 s\n",
      "(54) Time elapsed: 0.14388418197631836 s\n",
      "(55) Time elapsed: 0.11333227157592773 s\n",
      "(56) Time elapsed: 0.12175178527832031 s\n",
      "(57) Time elapsed: 0.12067580223083496 s\n",
      "(58) Time elapsed: 0.07653641700744629 s\n",
      "(59) Time elapsed: 0.06468391418457031 s\n",
      "(60) Time elapsed: 0.07245326042175293 s\n"
     ]
    }
   ],
   "source": [
    "for i in range(50, 60):\n",
    "    start = time.time()\n",
    "    r = requests.get(url.format(i+1))\n",
    "    message = r.json()\n",
    "    producer.send(topic='pokemon', value=message)\n",
    "    end = time.time()\n",
    "    print('({}) Time elapsed: {} s'.format(i+1, end-start))\n",
    "    time.sleep(1)"
   ]
  }
 ],
 "metadata": {
  "kernelspec": {
   "display_name": "Python 3",
   "language": "python",
   "name": "python3"
  },
  "language_info": {
   "codemirror_mode": {
    "name": "ipython",
    "version": 3
   },
   "file_extension": ".py",
   "mimetype": "text/x-python",
   "name": "python",
   "nbconvert_exporter": "python",
   "pygments_lexer": "ipython3",
   "version": "3.6.8"
  }
 },
 "nbformat": 4,
 "nbformat_minor": 2
}
