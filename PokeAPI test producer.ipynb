{
 "cells": [
  {
   "cell_type": "code",
   "execution_count": 29,
   "metadata": {},
   "outputs": [],
   "source": [
    "import requests\n",
    "import json\n",
    "from json import dumps,loads\n",
    "import time\n",
    "from kafka import KafkaProducer"
   ]
  },
  {
   "cell_type": "code",
   "execution_count": 30,
   "metadata": {},
   "outputs": [],
   "source": [
    "producer = KafkaProducer(bootstrap_servers='localhost:29092',\n",
    "                            value_serializer=lambda v: dumps(v).encode('utf-8'))"
   ]
  },
  {
   "cell_type": "code",
   "execution_count": 31,
   "metadata": {},
   "outputs": [],
   "source": [
    "url = 'https://pokeapi.co/api/v2/pokemon/{}/'"
   ]
  },
  {
   "cell_type": "code",
   "execution_count": 32,
   "metadata": {},
   "outputs": [
    {
     "name": "stdout",
     "output_type": "stream",
     "text": [
      "(61) Time elapsed: 1.0596280097961426 s\n",
      "(62) Time elapsed: 0.828622579574585 s\n",
      "(63) Time elapsed: 0.848050594329834 s\n",
      "(64) Time elapsed: 1.099900484085083 s\n",
      "(65) Time elapsed: 0.890300989151001 s\n",
      "(66) Time elapsed: 1.1026949882507324 s\n",
      "(67) Time elapsed: 1.1602764129638672 s\n",
      "(68) Time elapsed: 0.8709094524383545 s\n",
      "(69) Time elapsed: 1.0953459739685059 s\n",
      "(70) Time elapsed: 1.0535924434661865 s\n"
     ]
    }
   ],
   "source": [
    "for i in range(60, 70):\n",
    "    start = time.time()\n",
    "    r = requests.get(url.format(i+1))\n",
    "    message = r.json()\n",
    "    producer.send(topic='pokemon', value=message)\n",
    "    end = time.time()\n",
    "    print('({}) Time elapsed: {} s'.format(i+1, end-start))\n",
    "    time.sleep(1)"
   ]
  },
  {
   "cell_type": "code",
   "execution_count": 24,
   "metadata": {},
   "outputs": [],
   "source": [
    "r = requests.get(url.format(1))"
   ]
  },
  {
   "cell_type": "code",
   "execution_count": 25,
   "metadata": {},
   "outputs": [],
   "source": [
    "json = r.json()"
   ]
  },
  {
   "cell_type": "code",
   "execution_count": 27,
   "metadata": {},
   "outputs": [],
   "source": [
    "name = json['forms'][0]['name']\n",
    "id = json['id']\n",
    "type1 = json['types'][0]['type']['name']\n",
    "try:\n",
    "    type2 = json['types'][1]['type']['name']\n",
    "except:\n",
    "    type2 = None\n",
    "weight = float(json['weight'])\n",
    "height = float(json['height'])"
   ]
  },
  {
   "cell_type": "code",
   "execution_count": 28,
   "metadata": {},
   "outputs": [
    {
     "name": "stdout",
     "output_type": "stream",
     "text": [
      "bulbasaur\n",
      "1\n",
      "poison\n",
      "grass\n",
      "69.0\n",
      "7.0\n"
     ]
    }
   ],
   "source": [
    "print(name)\n",
    "print(id)\n",
    "print(type1)\n",
    "print(type2)\n",
    "print(weight)\n",
    "print(height)"
   ]
  },
  {
   "cell_type": "code",
   "execution_count": 23,
   "metadata": {},
   "outputs": [
    {
     "name": "stdout",
     "output_type": "stream",
     "text": [
      "<class 'str'>\n",
      "<class 'int'>\n",
      "<class 'str'>\n",
      "<class 'NoneType'>\n",
      "<class 'float'>\n",
      "<class 'float'>\n"
     ]
    }
   ],
   "source": [
    "print(type(name))\n",
    "print(type(id))\n",
    "print(type(type1))\n",
    "print(type(type2))\n",
    "print(type(weight))\n",
    "print(type(height))"
   ]
  },
  {
   "cell_type": "code",
   "execution_count": null,
   "metadata": {},
   "outputs": [],
   "source": []
  }
 ],
 "metadata": {
  "kernelspec": {
   "display_name": "Python 3",
   "language": "python",
   "name": "python3"
  },
  "language_info": {
   "codemirror_mode": {
    "name": "ipython",
    "version": 3
   },
   "file_extension": ".py",
   "mimetype": "text/x-python",
   "name": "python",
   "nbconvert_exporter": "python",
   "pygments_lexer": "ipython3",
   "version": "3.6.8"
  }
 },
 "nbformat": 4,
 "nbformat_minor": 2
}
